{
 "cells": [
  {
   "cell_type": "code",
   "execution_count": 45,
   "metadata": {},
   "outputs": [],
   "source": [
    "import pandas as pd\n",
    "from pandasai.llm import OpenAI\n",
    "from dotenv import load_dotenv\n",
    "load_dotenv()\n",
    "llm = OpenAI()\n",
    "from pandasai import Agent, clear_cache\n",
    "\n",
    "iris = pd.read_csv('https://raw.githubusercontent.com/mwaskom/seaborn-data/master/iris.csv')\n",
    "\n",
    "agent = Agent(iris, config={\"llm\": llm}, memory_size= 20)\n",
    "\n",
    "clear_cache()"
   ]
  },
  {
   "cell_type": "code",
   "execution_count": 46,
   "metadata": {},
   "outputs": [
    {
     "name": "stdout",
     "output_type": "stream",
     "text": [
      "Question: What is the average sepal length of setosa?\n",
      "Running PandasAI with openai LLM...\n",
      "Prompt ID: bcae31f0-8021-470b-9d41-b93e89ae158b\n",
      "Using prompt: You are provided with the following pandas DataFrames:\n",
      "\n",
      "<dataframe>\n",
      "Dataframe dfs[0], with 150 rows and 5 columns.\n",
      "This is the metadata of the dataframe dfs[0]:\n",
      "sepal_length,sepal_width,petal_length,petal_width,species\n",
      "4.6,3.1,1.5,0.2,setosa\n",
      "4.9,3.0,1.4,0.2,setosa\n",
      "4.7,3.2,1.3,0.2,setosa\n",
      "5.1,3.5,1.4,0.2,setosa\n",
      "5.0,3.6,1.4,0.2,setosa\n",
      "</dataframe>\n",
      "\n",
      "<conversation>\n",
      "User: What is the average sepal length of setosa?\n",
      "</conversation>\n",
      "\n",
      "This is the initial python function. Do not change the params. Given the context, use the right dataframes.\n",
      "```python\n",
      "# TODO import all the dependencies required\n",
      "import pandas as pd\n",
      "\n",
      "def analyze_data(dfs: list[pd.DataFrame]) -> dict:\n",
      "    \"\"\"\n",
      "    Analyze the data, using the provided dataframes (`dfs`).\n",
      "    1. Prepare: Preprocessing and cleaning data if necessary\n",
      "    2. Process: Manipulating data for analysis (grouping, filtering, aggregating, etc.)\n",
      "    3. Analyze: Conducting the actual analysis (if the user asks to plot a chart you must save it as an image in temp_chart.png and not show the chart.)\n",
      "    At the end, return a dictionary of:\n",
      "    - type (possible values \"string\", \"number\", \"dataframe\", \"plot\")\n",
      "    - value (can be a string, a dataframe or the path of the plot, NOT a dictionary)\n",
      "    Examples: \n",
      "        { \"type\": \"string\", \"value\": f\"The highest salary is {highest_salary}.\" }\n",
      "        or\n",
      "        { \"type\": \"number\", \"value\": 125 }\n",
      "        or\n",
      "        { \"type\": \"dataframe\", \"value\": pd.DataFrame({...}) }\n",
      "        or\n",
      "        { \"type\": \"plot\", \"value\": \"temp_chart.png\" }\n",
      "    \"\"\"\n",
      "```\n",
      "\n",
      "Take a deep breath and reason step-by-step. Act as a senior data analyst.\n",
      "In the answer, you must never write the \"technical\" names of the tables.\n",
      "Based on the last message in the conversation:\n",
      "- return the updated analyze_data function wrapped within ```python ```\n",
      "Code generated:\n",
      "```\n",
      "# TODO import all the dependencies required\n",
      "import pandas as pd\n",
      "\n",
      "def analyze_data(dfs: list[pd.DataFrame]) -> dict:\n",
      "    \"\"\"\n",
      "    Analyze the data, using the provided dataframes (`dfs`).\n",
      "    1. Prepare: Preprocessing and cleaning data if necessary\n",
      "    2. Process: Manipulating data for analysis (grouping, filtering, aggregating, etc.)\n",
      "    3. Analyze: Conducting the actual analysis (if the user asks to plot a chart you must save it as an image in temp_chart.png and not show the chart.)\n",
      "    At the end, return a dictionary of:\n",
      "    - type (possible values \"string\", \"number\", \"dataframe\", \"plot\")\n",
      "    - value (can be a string, a dataframe or the path of the plot, NOT a dictionary)\n",
      "    Examples: \n",
      "        { \"type\": \"string\", \"value\": f\"The highest salary is {highest_salary}.\" }\n",
      "        or\n",
      "        { \"type\": \"number\", \"value\": 125 }\n",
      "        or\n",
      "        { \"type\": \"dataframe\", \"value\": pd.DataFrame({...}) }\n",
      "        or\n",
      "        { \"type\": \"plot\", \"value\": \"temp_chart.png\" }\n",
      "    \"\"\"\n",
      "    \n",
      "    # Prepare: No preprocessing or cleaning required\n",
      "    \n",
      "    # Process: Filtering the dataframe to get only setosa species\n",
      "    setosa_df = dfs[0][dfs[0]['species'] == 'setosa']\n",
      "    \n",
      "    # Analyze: Calculating the average sepal length of setosa\n",
      "    avg_sepal_length = setosa_df['sepal_length'].mean()\n",
      "    \n",
      "    # Returning the result as a string\n",
      "    result = {\n",
      "        \"type\": \"string\",\n",
      "        \"value\": f\"The average sepal length of setosa is {avg_sepal_length:.2f}.\"\n",
      "    }\n",
      "    \n",
      "    return result\n",
      "```\n",
      "\n",
      "\n",
      "Code running:\n",
      "```\n",
      "def analyze_data(dfs: list[pd.DataFrame]) ->dict:\n",
      "    \"\"\"\n",
      "    Analyze the data, using the provided dataframes (`dfs`).\n",
      "    1. Prepare: Preprocessing and cleaning data if necessary\n",
      "    2. Process: Manipulating data for analysis (grouping, filtering, aggregating, etc.)\n",
      "    3. Analyze: Conducting the actual analysis (if the user asks to plot a chart you must save it as an image in temp_chart.png and not show the chart.)\n",
      "    At the end, return a dictionary of:\n",
      "    - type (possible values \"string\", \"number\", \"dataframe\", \"plot\")\n",
      "    - value (can be a string, a dataframe or the path of the plot, NOT a dictionary)\n",
      "    Examples: \n",
      "        { \"type\": \"string\", \"value\": f\"The highest salary is {highest_salary}.\" }\n",
      "        or\n",
      "        { \"type\": \"number\", \"value\": 125 }\n",
      "        or\n",
      "        { \"type\": \"dataframe\", \"value\": pd.DataFrame({...}) }\n",
      "        or\n",
      "        { \"type\": \"plot\", \"value\": \"temp_chart.png\" }\n",
      "    \"\"\"\n",
      "    setosa_df = dfs[0][dfs[0]['species'] == 'setosa']\n",
      "    avg_sepal_length = setosa_df['sepal_length'].mean()\n",
      "    result = {'type': 'string', 'value': f'The average sepal length of setosa is {avg_sepal_length:.2f}.'}\n",
      "    return result\n",
      "        ```\n",
      "Answer: {'type': 'string', 'value': 'The average sepal length of setosa is 5.01.'}\n",
      "Executed in: 116.74759984016418s\n"
     ]
    },
    {
     "data": {
      "text/plain": [
       "'The average sepal length of setosa is 5.01.'"
      ]
     },
     "execution_count": 46,
     "metadata": {},
     "output_type": "execute_result"
    }
   ],
   "source": [
    "agent.chat('What is the average sepal length of setosa?')"
   ]
  },
  {
   "cell_type": "code",
   "execution_count": 40,
   "metadata": {},
   "outputs": [
    {
     "name": "stdout",
     "output_type": "stream",
     "text": [
      "Check if the new message is related to the conversation: True\n"
     ]
    },
    {
     "data": {
      "text/plain": [
       "True"
      ]
     },
     "execution_count": 40,
     "metadata": {},
     "output_type": "execute_result"
    }
   ],
   "source": [
    "agent.check_if_related_to_conversation('How long is sepal of setosa?')"
   ]
  },
  {
   "cell_type": "code",
   "execution_count": 41,
   "metadata": {},
   "outputs": [
    {
     "name": "stdout",
     "output_type": "stream",
     "text": [
      "Check if the new message is related to the conversation: False\n"
     ]
    },
    {
     "data": {
      "text/plain": [
       "False"
      ]
     },
     "execution_count": 41,
     "metadata": {},
     "output_type": "execute_result"
    }
   ],
   "source": [
    "agent.check_if_related_to_conversation('How long is sepal of versicolor?')"
   ]
  },
  {
   "cell_type": "code",
   "execution_count": 47,
   "metadata": {},
   "outputs": [
    {
     "name": "stdout",
     "output_type": "stream",
     "text": [
      "Check if the new message is related to the conversation: True\n",
      "Question: What is the average sepal length of versicolor?\n",
      "Running PandasAI with openai LLM...\n",
      "Prompt ID: 61691c25-0f51-4238-a6a9-2d43a490296b\n",
      "Using prompt: You are provided with the following pandas DataFrames:\n",
      "\n",
      "<dataframe>\n",
      "Dataframe dfs[0], with 150 rows and 5 columns.\n",
      "This is the metadata of the dataframe dfs[0]:\n",
      "sepal_length,sepal_width,petal_length,petal_width,species\n",
      "4.6,3.1,1.5,0.2,setosa\n",
      "4.9,3.0,1.4,0.2,setosa\n",
      "4.7,3.2,1.3,0.2,setosa\n",
      "5.1,3.5,1.4,0.2,setosa\n",
      "5.0,3.6,1.4,0.2,setosa\n",
      "</dataframe>\n",
      "\n",
      "<conversation>\n",
      "User: What is the average sepal length of setosa?\n",
      "Assistant: The average sepal length of setosa is 5.01.\n",
      "User: What is the average sepal length of versicolor?\n",
      "</conversation>\n",
      "\n",
      "This is the initial python function. Do not change the params. Given the context, use the right dataframes.\n",
      "```python\n",
      "# TODO import all the dependencies required\n",
      "import pandas as pd\n",
      "\n",
      "def analyze_data(dfs: list[pd.DataFrame]) -> dict:\n",
      "    \"\"\"\n",
      "    Analyze the data, using the provided dataframes (`dfs`).\n",
      "    1. Prepare: Preprocessing and cleaning data if necessary\n",
      "    2. Process: Manipulating data for analysis (grouping, filtering, aggregating, etc.)\n",
      "    3. Analyze: Conducting the actual analysis (if the user asks to plot a chart you must save it as an image in temp_chart.png and not show the chart.)\n",
      "    At the end, return a dictionary of:\n",
      "    - type (possible values \"string\", \"number\", \"dataframe\", \"plot\")\n",
      "    - value (can be a string, a dataframe or the path of the plot, NOT a dictionary)\n",
      "    Examples: \n",
      "        { \"type\": \"string\", \"value\": f\"The highest salary is {highest_salary}.\" }\n",
      "        or\n",
      "        { \"type\": \"number\", \"value\": 125 }\n",
      "        or\n",
      "        { \"type\": \"dataframe\", \"value\": pd.DataFrame({...}) }\n",
      "        or\n",
      "        { \"type\": \"plot\", \"value\": \"temp_chart.png\" }\n",
      "    \"\"\"\n",
      "    \n",
      "    # Prepare: No preprocessing or cleaning required\n",
      "    \n",
      "    # Process: Filtering the dataframe to get only setosa species\n",
      "    setosa_df = dfs[0][dfs[0]['species'] == 'setosa']\n",
      "    \n",
      "    # Analyze: Calculating the average sepal length of setosa\n",
      "    avg_sepal_length = setosa_df['sepal_length'].mean()\n",
      "    \n",
      "    # Returning the result as a string\n",
      "    result = {\n",
      "        \"type\": \"string\",\n",
      "        \"value\": f\"The average sepal length of setosa is {avg_sepal_length:.2f}.\"\n",
      "    }\n",
      "    \n",
      "    return result\n",
      "```\n",
      "\n",
      "Take a deep breath and reason step-by-step. Act as a senior data analyst.\n",
      "In the answer, you must never write the \"technical\" names of the tables.\n",
      "Based on the last message in the conversation:\n",
      "- return the updated analyze_data function wrapped within ```python ```\n",
      "Code generated:\n",
      "```\n",
      "# TODO import all the dependencies required\n",
      "import pandas as pd\n",
      "\n",
      "def analyze_data(dfs: list[pd.DataFrame]) -> dict:\n",
      "    \"\"\"\n",
      "    Analyze the data, using the provided dataframes (`dfs`).\n",
      "    1. Prepare: Preprocessing and cleaning data if necessary\n",
      "    2. Process: Manipulating data for analysis (grouping, filtering, aggregating, etc.)\n",
      "    3. Analyze: Conducting the actual analysis (if the user asks to plot a chart you must save it as an image in temp_chart.png and not show the chart.)\n",
      "    At the end, return a dictionary of:\n",
      "    - type (possible values \"string\", \"number\", \"dataframe\", \"plot\")\n",
      "    - value (can be a string, a dataframe or the path of the plot, NOT a dictionary)\n",
      "    Examples: \n",
      "        { \"type\": \"string\", \"value\": f\"The highest salary is {highest_salary}.\" }\n",
      "        or\n",
      "        { \"type\": \"number\", \"value\": 125 }\n",
      "        or\n",
      "        { \"type\": \"dataframe\", \"value\": pd.DataFrame({...}) }\n",
      "        or\n",
      "        { \"type\": \"plot\", \"value\": \"temp_chart.png\" }\n",
      "    \"\"\"\n",
      "    \n",
      "    # Prepare: No preprocessing or cleaning required\n",
      "    \n",
      "    # Process: Filtering the dataframe to get only setosa species\n",
      "    setosa_df = dfs[0][dfs[0]['species'] == 'setosa']\n",
      "    \n",
      "    # Analyze: Calculating the average sepal length of setosa\n",
      "    avg_sepal_length_setosa = setosa_df['sepal_length'].mean()\n",
      "    \n",
      "    # Analyze: Filtering the dataframe to get only versicolor species\n",
      "    versicolor_df = dfs[0][dfs[0]['species'] == 'versicolor']\n",
      "    \n",
      "    # Analyze: Calculating the average sepal length of versicolor\n",
      "    avg_sepal_length_versicolor = versicolor_df['sepal_length'].mean()\n",
      "    \n",
      "    # Returning the result as a string\n",
      "    result = {\n",
      "        \"type\": \"string\",\n",
      "        \"value\": f\"The average sepal length of setosa is {avg_sepal_length_setosa:.2f}.\"\n",
      "    }\n",
      "    \n",
      "    return result\n",
      "```\n",
      "\n",
      "\n",
      "Code running:\n",
      "```\n",
      "def analyze_data(dfs: list[pd.DataFrame]) ->dict:\n",
      "    \"\"\"\n",
      "    Analyze the data, using the provided dataframes (`dfs`).\n",
      "    1. Prepare: Preprocessing and cleaning data if necessary\n",
      "    2. Process: Manipulating data for analysis (grouping, filtering, aggregating, etc.)\n",
      "    3. Analyze: Conducting the actual analysis (if the user asks to plot a chart you must save it as an image in temp_chart.png and not show the chart.)\n",
      "    At the end, return a dictionary of:\n",
      "    - type (possible values \"string\", \"number\", \"dataframe\", \"plot\")\n",
      "    - value (can be a string, a dataframe or the path of the plot, NOT a dictionary)\n",
      "    Examples: \n",
      "        { \"type\": \"string\", \"value\": f\"The highest salary is {highest_salary}.\" }\n",
      "        or\n",
      "        { \"type\": \"number\", \"value\": 125 }\n",
      "        or\n",
      "        { \"type\": \"dataframe\", \"value\": pd.DataFrame({...}) }\n",
      "        or\n",
      "        { \"type\": \"plot\", \"value\": \"temp_chart.png\" }\n",
      "    \"\"\"\n",
      "    setosa_df = dfs[0][dfs[0]['species'] == 'setosa']\n",
      "    avg_sepal_length_setosa = setosa_df['sepal_length'].mean()\n",
      "    versicolor_df = dfs[0][dfs[0]['species'] == 'versicolor']\n",
      "    avg_sepal_length_versicolor = versicolor_df['sepal_length'].mean()\n",
      "    result = {'type': 'string', 'value': f'The average sepal length of setosa is {avg_sepal_length_setosa:.2f}.'}\n",
      "    return result\n",
      "        ```\n",
      "Answer: {'type': 'string', 'value': 'The average sepal length of setosa is 5.01.'}\n",
      "Executed in: 110.50191140174866s\n"
     ]
    },
    {
     "data": {
      "text/plain": [
       "'The average sepal length of setosa is 5.01.'"
      ]
     },
     "execution_count": 47,
     "metadata": {},
     "output_type": "execute_result"
    }
   ],
   "source": [
    "agent.chat('What is the average sepal length of versicolor?')"
   ]
  },
  {
   "cell_type": "code",
   "execution_count": 43,
   "metadata": {},
   "outputs": [
    {
     "name": "stdout",
     "output_type": "stream",
     "text": [
      "Check if the new message is related to the conversation: True\n"
     ]
    },
    {
     "data": {
      "text/plain": [
       "True"
      ]
     },
     "execution_count": 43,
     "metadata": {},
     "output_type": "execute_result"
    }
   ],
   "source": [
    "agent.check_if_related_to_conversation(\"which of the two species is longer?\")"
   ]
  },
  {
   "cell_type": "code",
   "execution_count": 49,
   "metadata": {},
   "outputs": [
    {
     "name": "stdout",
     "output_type": "stream",
     "text": [
      "Check if the new message is related to the conversation: True\n",
      "Question: which of the two species is longer?\n",
      "Running PandasAI with openai LLM...\n",
      "Prompt ID: 53947af9-ed5b-4fc2-aebe-8addb5b0e49c\n",
      "Using prompt: You are provided with the following pandas DataFrames:\n",
      "\n",
      "<dataframe>\n",
      "Dataframe dfs[0], with 150 rows and 5 columns.\n",
      "This is the metadata of the dataframe dfs[0]:\n",
      "sepal_length,sepal_width,petal_length,petal_width,species\n",
      "4.6,3.1,1.5,0.2,setosa\n",
      "4.9,3.0,1.4,0.2,setosa\n",
      "4.7,3.2,1.3,0.2,setosa\n",
      "5.1,3.5,1.4,0.2,setosa\n",
      "5.0,3.6,1.4,0.2,setosa\n",
      "</dataframe>\n",
      "\n",
      "<conversation>\n",
      "User: What is the average sepal length of setosa?\n",
      "Assistant: The average sepal length of setosa is 5.01.\n",
      "User: What is the average sepal length of versicolor?\n",
      "Assistant: The average sepal length of setosa is 5.01.\n",
      "User: which of the two species is longer?\n",
      "User: which of the two species is longer?\n",
      "</conversation>\n",
      "\n",
      "This is the initial python function. Do not change the params. Given the context, use the right dataframes.\n",
      "```python\n",
      "# TODO import all the dependencies required\n",
      "import pandas as pd\n",
      "\n",
      "def analyze_data(dfs: list[pd.DataFrame]) -> dict:\n",
      "    \"\"\"\n",
      "    Analyze the data, using the provided dataframes (`dfs`).\n",
      "    1. Prepare: Preprocessing and cleaning data if necessary\n",
      "    2. Process: Manipulating data for analysis (grouping, filtering, aggregating, etc.)\n",
      "    3. Analyze: Conducting the actual analysis (if the user asks to plot a chart you must save it as an image in temp_chart.png and not show the chart.)\n",
      "    At the end, return a dictionary of:\n",
      "    - type (possible values \"string\", \"number\", \"dataframe\", \"plot\")\n",
      "    - value (can be a string, a dataframe or the path of the plot, NOT a dictionary)\n",
      "    Examples: \n",
      "        { \"type\": \"string\", \"value\": f\"The highest salary is {highest_salary}.\" }\n",
      "        or\n",
      "        { \"type\": \"number\", \"value\": 125 }\n",
      "        or\n",
      "        { \"type\": \"dataframe\", \"value\": pd.DataFrame({...}) }\n",
      "        or\n",
      "        { \"type\": \"plot\", \"value\": \"temp_chart.png\" }\n",
      "    \"\"\"\n",
      "    \n",
      "    # Prepare: No preprocessing or cleaning required\n",
      "    \n",
      "    # Process: Filtering the dataframe to get only setosa species\n",
      "    setosa_df = dfs[0][dfs[0]['species'] == 'setosa']\n",
      "    \n",
      "    # Analyze: Calculating the average sepal length of setosa\n",
      "    avg_sepal_length_setosa = setosa_df['sepal_length'].mean()\n",
      "    \n",
      "    # Analyze: Filtering the dataframe to get only versicolor species\n",
      "    versicolor_df = dfs[0][dfs[0]['species'] == 'versicolor']\n",
      "    \n",
      "    # Analyze: Calculating the average sepal length of versicolor\n",
      "    avg_sepal_length_versicolor = versicolor_df['sepal_length'].mean()\n",
      "    \n",
      "    # Returning the result as a string\n",
      "    result = {\n",
      "        \"type\": \"string\",\n",
      "        \"value\": f\"The average sepal length of setosa is {avg_sepal_length_setosa:.2f}.\"\n",
      "    }\n",
      "    \n",
      "    return result\n",
      "```\n",
      "\n",
      "Take a deep breath and reason step-by-step. Act as a senior data analyst.\n",
      "In the answer, you must never write the \"technical\" names of the tables.\n",
      "Based on the last message in the conversation:\n",
      "- return the updated analyze_data function wrapped within ```python ```\n"
     ]
    },
    {
     "data": {
      "text/plain": [
       "\"Unfortunately, I was not able to answer your question, because of the following error:\\n\\nRequest timed out: HTTPSConnectionPool(host='api.openai.com', port=443): Read timed out. (read timeout=600)\\n\""
      ]
     },
     "execution_count": 49,
     "metadata": {},
     "output_type": "execute_result"
    }
   ],
   "source": [
    "agent.chat(\"which of the two species is longer?\")"
   ]
  },
  {
   "cell_type": "code",
   "execution_count": 7,
   "metadata": {},
   "outputs": [
    {
     "data": {
      "text/plain": [
       "'The average petal length is 3.7580000000000005.'"
      ]
     },
     "execution_count": 7,
     "metadata": {},
     "output_type": "execute_result"
    }
   ],
   "source": [
    "agent.chat(\"What is it's average petal length?\")"
   ]
  },
  {
   "cell_type": "code",
   "execution_count": 50,
   "metadata": {},
   "outputs": [
    {
     "name": "stdout",
     "output_type": "stream",
     "text": [
      "Check if the new message is related to the conversation: False\n",
      "Question: What is the average petal length of virginica?\n",
      "Running PandasAI with openai LLM...\n",
      "Prompt ID: ea2e3c40-5db0-4c1b-b2f0-5e0cee9bcaaa\n",
      "Using prompt: You are provided with the following pandas DataFrames:\n",
      "\n",
      "<dataframe>\n",
      "Dataframe dfs[0], with 150 rows and 5 columns.\n",
      "This is the metadata of the dataframe dfs[0]:\n",
      "sepal_length,sepal_width,petal_length,petal_width,species\n",
      "4.6,3.1,1.5,0.2,setosa\n",
      "4.9,3.0,1.4,0.2,setosa\n",
      "4.7,3.2,1.3,0.2,setosa\n",
      "5.1,3.5,1.4,0.2,setosa\n",
      "5.0,3.6,1.4,0.2,setosa\n",
      "</dataframe>\n",
      "\n",
      "<conversation>\n",
      "User: What is the average petal length of virginica?\n",
      "</conversation>\n",
      "\n",
      "This is the initial python function. Do not change the params. Given the context, use the right dataframes.\n",
      "```python\n",
      "# TODO import all the dependencies required\n",
      "import pandas as pd\n",
      "\n",
      "def analyze_data(dfs: list[pd.DataFrame]) -> dict:\n",
      "    \"\"\"\n",
      "    Analyze the data, using the provided dataframes (`dfs`).\n",
      "    1. Prepare: Preprocessing and cleaning data if necessary\n",
      "    2. Process: Manipulating data for analysis (grouping, filtering, aggregating, etc.)\n",
      "    3. Analyze: Conducting the actual analysis (if the user asks to plot a chart you must save it as an image in temp_chart.png and not show the chart.)\n",
      "    At the end, return a dictionary of:\n",
      "    - type (possible values \"string\", \"number\", \"dataframe\", \"plot\")\n",
      "    - value (can be a string, a dataframe or the path of the plot, NOT a dictionary)\n",
      "    Examples: \n",
      "        { \"type\": \"string\", \"value\": f\"The highest salary is {highest_salary}.\" }\n",
      "        or\n",
      "        { \"type\": \"number\", \"value\": 125 }\n",
      "        or\n",
      "        { \"type\": \"dataframe\", \"value\": pd.DataFrame({...}) }\n",
      "        or\n",
      "        { \"type\": \"plot\", \"value\": \"temp_chart.png\" }\n",
      "    \"\"\"\n",
      "```\n",
      "\n",
      "Take a deep breath and reason step-by-step. Act as a senior data analyst.\n",
      "In the answer, you must never write the \"technical\" names of the tables.\n",
      "Based on the last message in the conversation:\n",
      "- return the updated analyze_data function wrapped within ```python ```\n",
      "Code generated:\n",
      "```\n",
      "# TODO import all the dependencies required\n",
      "import pandas as pd\n",
      "\n",
      "def analyze_data(dfs: list[pd.DataFrame]) -> dict:\n",
      "    \"\"\"\n",
      "    Analyze the data, using the provided dataframes (`dfs`).\n",
      "    1. Prepare: Preprocessing and cleaning data if necessary\n",
      "    2. Process: Manipulating data for analysis (grouping, filtering, aggregating, etc.)\n",
      "    3. Analyze: Conducting the actual analysis (if the user asks to plot a chart you must save it as an image in temp_chart.png and not show the chart.)\n",
      "    At the end, return a dictionary of:\n",
      "    - type (possible values \"string\", \"number\", \"dataframe\", \"plot\")\n",
      "    - value (can be a string, a dataframe or the path of the plot, NOT a dictionary)\n",
      "    Examples: \n",
      "        { \"type\": \"string\", \"value\": f\"The highest salary is {highest_salary}.\" }\n",
      "        or\n",
      "        { \"type\": \"number\", \"value\": 125 }\n",
      "        or\n",
      "        { \"type\": \"dataframe\", \"value\": pd.DataFrame({...}) }\n",
      "        or\n",
      "        { \"type\": \"plot\", \"value\": \"temp_chart.png\" }\n",
      "    \"\"\"\n",
      "    \n",
      "    # Prepare: No preprocessing or cleaning required\n",
      "    \n",
      "    # Process: Filter the dataframe to include only the rows with species 'virginica'\n",
      "    virginica_df = dfs[0][dfs[0]['species'] == 'virginica']\n",
      "    \n",
      "    # Analyze: Calculate the average petal length of virginica\n",
      "    avg_petal_length = virginica_df['petal_length'].mean()\n",
      "    \n",
      "    # Return the result as a string\n",
      "    result = f\"The average petal length of virginica is {avg_petal_length:.2f}.\"\n",
      "    return {\"type\": \"string\", \"value\": result}\n",
      "```\n",
      "\n",
      "\n",
      "Code running:\n",
      "```\n",
      "def analyze_data(dfs: list[pd.DataFrame]) ->dict:\n",
      "    \"\"\"\n",
      "    Analyze the data, using the provided dataframes (`dfs`).\n",
      "    1. Prepare: Preprocessing and cleaning data if necessary\n",
      "    2. Process: Manipulating data for analysis (grouping, filtering, aggregating, etc.)\n",
      "    3. Analyze: Conducting the actual analysis (if the user asks to plot a chart you must save it as an image in temp_chart.png and not show the chart.)\n",
      "    At the end, return a dictionary of:\n",
      "    - type (possible values \"string\", \"number\", \"dataframe\", \"plot\")\n",
      "    - value (can be a string, a dataframe or the path of the plot, NOT a dictionary)\n",
      "    Examples: \n",
      "        { \"type\": \"string\", \"value\": f\"The highest salary is {highest_salary}.\" }\n",
      "        or\n",
      "        { \"type\": \"number\", \"value\": 125 }\n",
      "        or\n",
      "        { \"type\": \"dataframe\", \"value\": pd.DataFrame({...}) }\n",
      "        or\n",
      "        { \"type\": \"plot\", \"value\": \"temp_chart.png\" }\n",
      "    \"\"\"\n",
      "    virginica_df = dfs[0][dfs[0]['species'] == 'virginica']\n",
      "    avg_petal_length = virginica_df['petal_length'].mean()\n",
      "    result = f'The average petal length of virginica is {avg_petal_length:.2f}.'\n",
      "    return {'type': 'string', 'value': result}\n",
      "        ```\n",
      "Answer: {'type': 'string', 'value': 'The average petal length of virginica is 5.55.'}\n",
      "Executed in: 95.75187230110168s\n"
     ]
    },
    {
     "data": {
      "text/plain": [
       "'The average petal length of virginica is 5.55.'"
      ]
     },
     "execution_count": 50,
     "metadata": {},
     "output_type": "execute_result"
    }
   ],
   "source": [
    "agent.chat(\"What is the average petal length of virginica?\")"
   ]
  },
  {
   "cell_type": "code",
   "execution_count": 51,
   "metadata": {},
   "outputs": [
    {
     "name": "stdout",
     "output_type": "stream",
     "text": [
      "Check if the new message is related to the conversation: True\n",
      "Question: and what is it's length?\n",
      "Running PandasAI with openai LLM...\n",
      "Prompt ID: 0f072614-fc78-4427-a2a8-3bc66d712b00\n",
      "Using prompt: You are provided with the following pandas DataFrames:\n",
      "\n",
      "<dataframe>\n",
      "Dataframe dfs[0], with 150 rows and 5 columns.\n",
      "This is the metadata of the dataframe dfs[0]:\n",
      "sepal_length,sepal_width,petal_length,petal_width,species\n",
      "4.6,3.1,1.5,0.2,setosa\n",
      "4.9,3.0,1.4,0.2,setosa\n",
      "4.7,3.2,1.3,0.2,setosa\n",
      "5.1,3.5,1.4,0.2,setosa\n",
      "5.0,3.6,1.4,0.2,setosa\n",
      "</dataframe>\n",
      "\n",
      "<conversation>\n",
      "User: What is the average petal length of virginica?\n",
      "Assistant: The average petal length of virginica is 5.55.\n",
      "User: and what is it's length?\n",
      "</conversation>\n",
      "\n",
      "This is the initial python function. Do not change the params. Given the context, use the right dataframes.\n",
      "```python\n",
      "# TODO import all the dependencies required\n",
      "import pandas as pd\n",
      "\n",
      "def analyze_data(dfs: list[pd.DataFrame]) -> dict:\n",
      "    \"\"\"\n",
      "    Analyze the data, using the provided dataframes (`dfs`).\n",
      "    1. Prepare: Preprocessing and cleaning data if necessary\n",
      "    2. Process: Manipulating data for analysis (grouping, filtering, aggregating, etc.)\n",
      "    3. Analyze: Conducting the actual analysis (if the user asks to plot a chart you must save it as an image in temp_chart.png and not show the chart.)\n",
      "    At the end, return a dictionary of:\n",
      "    - type (possible values \"string\", \"number\", \"dataframe\", \"plot\")\n",
      "    - value (can be a string, a dataframe or the path of the plot, NOT a dictionary)\n",
      "    Examples: \n",
      "        { \"type\": \"string\", \"value\": f\"The highest salary is {highest_salary}.\" }\n",
      "        or\n",
      "        { \"type\": \"number\", \"value\": 125 }\n",
      "        or\n",
      "        { \"type\": \"dataframe\", \"value\": pd.DataFrame({...}) }\n",
      "        or\n",
      "        { \"type\": \"plot\", \"value\": \"temp_chart.png\" }\n",
      "    \"\"\"\n",
      "    \n",
      "    # Prepare: No preprocessing or cleaning required\n",
      "    \n",
      "    # Process: Filter the dataframe to include only the rows with species 'virginica'\n",
      "    virginica_df = dfs[0][dfs[0]['species'] == 'virginica']\n",
      "    \n",
      "    # Analyze: Calculate the average petal length of virginica\n",
      "    avg_petal_length = virginica_df['petal_length'].mean()\n",
      "    \n",
      "    # Return the result as a string\n",
      "    result = f\"The average petal length of virginica is {avg_petal_length:.2f}.\"\n",
      "    return {\"type\": \"string\", \"value\": result}\n",
      "```\n",
      "\n",
      "Take a deep breath and reason step-by-step. Act as a senior data analyst.\n",
      "In the answer, you must never write the \"technical\" names of the tables.\n",
      "Based on the last message in the conversation:\n",
      "- return the updated analyze_data function wrapped within ```python ```\n",
      "Code generated:\n",
      "```\n",
      "# TODO import all the dependencies required\n",
      "import pandas as pd\n",
      "\n",
      "def analyze_data(dfs: list[pd.DataFrame]) -> dict:\n",
      "    \"\"\"\n",
      "    Analyze the data, using the provided dataframes (`dfs`).\n",
      "    1. Prepare: Preprocessing and cleaning data if necessary\n",
      "    2. Process: Manipulating data for analysis (grouping, filtering, aggregating, etc.)\n",
      "    3. Analyze: Conducting the actual analysis (if the user asks to plot a chart you must save it as an image in temp_chart.png and not show the chart.)\n",
      "    At the end, return a dictionary of:\n",
      "    - type (possible values \"string\", \"number\", \"dataframe\", \"plot\")\n",
      "    - value (can be a string, a dataframe or the path of the plot, NOT a dictionary)\n",
      "    Examples: \n",
      "        { \"type\": \"string\", \"value\": f\"The highest salary is {highest_salary}.\" }\n",
      "        or\n",
      "        { \"type\": \"number\", \"value\": 125 }\n",
      "        or\n",
      "        { \"type\": \"dataframe\", \"value\": pd.DataFrame({...}) }\n",
      "        or\n",
      "        { \"type\": \"plot\", \"value\": \"temp_chart.png\" }\n",
      "    \"\"\"\n",
      "    \n",
      "    # Prepare: No preprocessing or cleaning required\n",
      "    \n",
      "    # Process: Filter the dataframe to include only the rows with species 'virginica'\n",
      "    virginica_df = dfs[0][dfs[0]['species'] == 'virginica']\n",
      "    \n",
      "    # Analyze: Calculate the average petal length of virginica\n",
      "    avg_petal_length = virginica_df['petal_length'].mean()\n",
      "    \n",
      "    # Return the result as a string\n",
      "    result = f\"The average petal length of virginica is {avg_petal_length:.2f}.\"\n",
      "    return {\"type\": \"string\", \"value\": result}\n",
      "```\n",
      "\n",
      "\n",
      "Code running:\n",
      "```\n",
      "def analyze_data(dfs: list[pd.DataFrame]) ->dict:\n",
      "    \"\"\"\n",
      "    Analyze the data, using the provided dataframes (`dfs`).\n",
      "    1. Prepare: Preprocessing and cleaning data if necessary\n",
      "    2. Process: Manipulating data for analysis (grouping, filtering, aggregating, etc.)\n",
      "    3. Analyze: Conducting the actual analysis (if the user asks to plot a chart you must save it as an image in temp_chart.png and not show the chart.)\n",
      "    At the end, return a dictionary of:\n",
      "    - type (possible values \"string\", \"number\", \"dataframe\", \"plot\")\n",
      "    - value (can be a string, a dataframe or the path of the plot, NOT a dictionary)\n",
      "    Examples: \n",
      "        { \"type\": \"string\", \"value\": f\"The highest salary is {highest_salary}.\" }\n",
      "        or\n",
      "        { \"type\": \"number\", \"value\": 125 }\n",
      "        or\n",
      "        { \"type\": \"dataframe\", \"value\": pd.DataFrame({...}) }\n",
      "        or\n",
      "        { \"type\": \"plot\", \"value\": \"temp_chart.png\" }\n",
      "    \"\"\"\n",
      "    virginica_df = dfs[0][dfs[0]['species'] == 'virginica']\n",
      "    avg_petal_length = virginica_df['petal_length'].mean()\n",
      "    result = f'The average petal length of virginica is {avg_petal_length:.2f}.'\n",
      "    return {'type': 'string', 'value': result}\n",
      "        ```\n",
      "Answer: {'type': 'string', 'value': 'The average petal length of virginica is 5.55.'}\n",
      "Executed in: 80.1616792678833s\n"
     ]
    },
    {
     "data": {
      "text/plain": [
       "'The average petal length of virginica is 5.55.'"
      ]
     },
     "execution_count": 51,
     "metadata": {},
     "output_type": "execute_result"
    }
   ],
   "source": [
    "agent.chat(\"and what is it's length?\")"
   ]
  },
  {
   "cell_type": "code",
   "execution_count": 38,
   "metadata": {},
   "outputs": [],
   "source": [
    "agent._lake.verbose = True"
   ]
  },
  {
   "cell_type": "code",
   "execution_count": 25,
   "metadata": {},
   "outputs": [
    {
     "data": {
      "text/plain": [
       "'Assistant: The virginica species has a longer petal length.'"
      ]
     },
     "execution_count": 25,
     "metadata": {},
     "output_type": "execute_result"
    }
   ],
   "source": [
    "agent._lake._memory.get_conversation()"
   ]
  },
  {
   "cell_type": "code",
   "execution_count": 28,
   "metadata": {},
   "outputs": [
    {
     "data": {
      "text/plain": [
       "'User: What is the average sepal length of setosa?\\nAssistant: The average sepal length of setosa is 5.01.\\nUser: What is the average sepal length of versicolor?\\nUser: which of the two species is longer?\\nAssistant: The virginica species has a longer petal length.'"
      ]
     },
     "execution_count": 28,
     "metadata": {},
     "output_type": "execute_result"
    }
   ],
   "source": [
    "agent._lake._memory.get_conversation(0)"
   ]
  },
  {
   "cell_type": "code",
   "execution_count": 37,
   "metadata": {},
   "outputs": [
    {
     "data": {
      "text/plain": [
       "[]"
      ]
     },
     "execution_count": 37,
     "metadata": {},
     "output_type": "execute_result"
    }
   ],
   "source": [
    "agent._lake._memory.all()"
   ]
  },
  {
   "cell_type": "code",
   "execution_count": null,
   "metadata": {},
   "outputs": [],
   "source": []
  }
 ],
 "metadata": {
  "kernelspec": {
   "display_name": "apollo_env",
   "language": "python",
   "name": "python3"
  },
  "language_info": {
   "codemirror_mode": {
    "name": "ipython",
    "version": 3
   },
   "file_extension": ".py",
   "mimetype": "text/x-python",
   "name": "python",
   "nbconvert_exporter": "python",
   "pygments_lexer": "ipython3",
   "version": "3.10.11"
  }
 },
 "nbformat": 4,
 "nbformat_minor": 2
}
